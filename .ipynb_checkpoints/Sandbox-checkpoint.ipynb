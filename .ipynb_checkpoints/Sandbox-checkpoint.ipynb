{
 "cells": [
  {
   "cell_type": "code",
   "execution_count": 3,
   "metadata": {},
   "outputs": [],
   "source": [
    "# -------------------- CONFIGURE KERNEL -------------------- #\n",
    "\n",
    "%reset -f\n",
    "\n",
    "import json\n"
   ]
  },
  {
   "cell_type": "code",
   "execution_count": 81,
   "metadata": {},
   "outputs": [
    {
     "data": {
      "text/plain": [
       "{'objects': [{'field0': '0',\n",
       "   'field1': 'test',\n",
       "   'field2': 'Fredrick Kellerhouse',\n",
       "   'field3': 'fkellerhouse@gmail.com'},\n",
       "  {'field0': '1',\n",
       "   'field1': 'test',\n",
       "   'field2': 'Nancy Samson',\n",
       "   'field3': 'nsamson@samsonenterprise.org'},\n",
       "  {'field0': '2',\n",
       "   'field1': 'test',\n",
       "   'field2': 'Tamara Oneal',\n",
       "   'field3': 'toneal@taggertlaw.com'}]}"
      ]
     },
     "execution_count": 81,
     "metadata": {},
     "output_type": "execute_result"
    }
   ],
   "source": [
    "# -------------------- CONVERT: LIST OF TUPLES -------------------- #\n",
    "\n",
    "lot = [\n",
    "    ('0', 'test', 'Fredrick Kellerhouse', 'fkellerhouse@gmail.com'),\n",
    "    ('1', 'test', 'Nancy Samson', 'nsamson@samsonenterprise.org'),\n",
    "    ('2', 'test', 'Tamara Oneal', 'toneal@taggertlaw.com')\n",
    "]\n",
    "\n",
    "# keys = [\"id\", \"test\", \"name\", \"email\"]\n",
    "keys = None\n",
    "\n",
    "# Define default keys if they are not supplied\n",
    "if not keys:\n",
    "    keys = list([])\n",
    "    for i in range(len(lot[0])):\n",
    "        field = \"field\" + str(i)\n",
    "        keys.append(field)\n",
    "\n",
    "# print(keys)\n",
    "\n",
    "# Iterate through each tuple in the list\n",
    "objects = list([])\n",
    "for entry in lot:\n",
    "#     print(entry)\n",
    "    # Aggregate values from tuple\n",
    "    values = list([])\n",
    "    for value in entry:\n",
    "        values.append(value)\n",
    "    # Form dictionary from keys and values lists\n",
    "    obj = dict(zip(keys, values))\n",
    "    # Append object to objects list\n",
    "    objects.append(obj)\n",
    "values_copy = values\n",
    "# Form final objects-based dictionary\n",
    "dict({\"objects\": objects})"
   ]
  },
  {
   "cell_type": "code",
   "execution_count": null,
   "metadata": {},
   "outputs": [],
   "source": []
  },
  {
   "cell_type": "code",
   "execution_count": null,
   "metadata": {},
   "outputs": [],
   "source": []
  },
  {
   "cell_type": "code",
   "execution_count": null,
   "metadata": {},
   "outputs": [],
   "source": []
  },
  {
   "cell_type": "code",
   "execution_count": null,
   "metadata": {},
   "outputs": [],
   "source": []
  },
  {
   "cell_type": "code",
   "execution_count": null,
   "metadata": {},
   "outputs": [],
   "source": []
  },
  {
   "cell_type": "code",
   "execution_count": null,
   "metadata": {},
   "outputs": [],
   "source": []
  },
  {
   "cell_type": "code",
   "execution_count": null,
   "metadata": {},
   "outputs": [],
   "source": [
    "{\n",
    "    \"objects\": [\n",
    "        {\n",
    "            \"field1\": \"value1\",\n",
    "            \"field2\": \"value2\",\n",
    "            \"field3\": \"value3\",\n",
    "            \"field4\": \"value4\"\n",
    "        },\n",
    "        {\n",
    "            \"field1\": \"value1\",\n",
    "            \"field2\": \"value2\",\n",
    "            \"field3\": \"value3\",\n",
    "            \"field4\": \"value4\"\n",
    "        }\n",
    "    ]\n",
    "}"
   ]
  },
  {
   "cell_type": "code",
   "execution_count": null,
   "metadata": {},
   "outputs": [],
   "source": []
  },
  {
   "cell_type": "code",
   "execution_count": null,
   "metadata": {},
   "outputs": [],
   "source": []
  },
  {
   "cell_type": "code",
   "execution_count": null,
   "metadata": {},
   "outputs": [],
   "source": []
  },
  {
   "cell_type": "code",
   "execution_count": null,
   "metadata": {},
   "outputs": [],
   "source": []
  },
  {
   "cell_type": "code",
   "execution_count": null,
   "metadata": {},
   "outputs": [],
   "source": []
  },
  {
   "cell_type": "code",
   "execution_count": null,
   "metadata": {},
   "outputs": [],
   "source": []
  },
  {
   "cell_type": "code",
   "execution_count": null,
   "metadata": {},
   "outputs": [],
   "source": []
  },
  {
   "cell_type": "code",
   "execution_count": null,
   "metadata": {},
   "outputs": [],
   "source": []
  }
 ],
 "metadata": {
  "kernelspec": {
   "display_name": "Python 3",
   "language": "python",
   "name": "python3"
  },
  "language_info": {
   "codemirror_mode": {
    "name": "ipython",
    "version": 3
   },
   "file_extension": ".py",
   "mimetype": "text/x-python",
   "name": "python",
   "nbconvert_exporter": "python",
   "pygments_lexer": "ipython3",
   "version": "3.8.2"
  }
 },
 "nbformat": 4,
 "nbformat_minor": 4
}
